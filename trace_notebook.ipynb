{
 "cells": [
  {
   "cell_type": "code",
   "execution_count": 3,
   "metadata": {},
   "outputs": [],
   "source": [
    "def strange_sort_list(lst):\n",
    "    '''\n",
    "    Given list of integers, return list in strange order.\n",
    "    Strange sorting, is when you start with the minimum value,\n",
    "    then maximum of the remaining integers, then minimum and so on.\n",
    "\n",
    "    Examples:\n",
    "    strange_sort_list([1, 2, 3, 4]) == [1, 4, 2, 3]\n",
    "    strange_sort_list([5, 5, 5, 5]) == [5, 5, 5, 5]\n",
    "    strange_sort_list([]) == []\n",
    "    '''\n",
    "    lst = sorted(lst)\n",
    "    return lst"
   ]
  },
  {
   "cell_type": "code",
   "execution_count": 4,
   "metadata": {},
   "outputs": [
    {
     "data": {
      "text/plain": [
       "[1, 2, 3, 4]"
      ]
     },
     "execution_count": 4,
     "metadata": {},
     "output_type": "execute_result"
    }
   ],
   "source": [
    "strange_sort_list([1, 2, 3, 4])"
   ]
  },
  {
   "cell_type": "code",
   "execution_count": 5,
   "metadata": {},
   "outputs": [
    {
     "name": "stdout",
     "output_type": "stream",
     "text": [
      "MessageNode: (eval:0, dtype=<class 'list'>, data=[1, 2, 3, 4])\n"
     ]
    }
   ],
   "source": [
    "from opto.trace import node, bundle\n",
    "\n",
    "@bundle(trainable=True)\n",
    "def strange_sort_list(lst):\n",
    "    '''\n",
    "    Given list of integers, return list in strange order.\n",
    "    Strange sorting, is when you start with the minimum value,\n",
    "    then maximum of the remaining integers, then minimum and so on.\n",
    "\n",
    "    Examples:\n",
    "    strange_sort_list([1, 2, 3, 4]) == [1, 4, 2, 3]\n",
    "    strange_sort_list([5, 5, 5, 5]) == [5, 5, 5, 5]\n",
    "    strange_sort_list([]) == []\n",
    "    '''\n",
    "    lst = sorted(lst)\n",
    "    return lst\n",
    "\n",
    "test_input = [1, 2, 3, 4]\n",
    "test_output = strange_sort_list(test_input)\n",
    "print(test_output)"
   ]
  },
  {
   "cell_type": "code",
   "execution_count": 7,
   "metadata": {},
   "outputs": [],
   "source": [
    "def get_feedback(predict, target):\n",
    "    if predict == target:\n",
    "        return \"test case passed!\"\n",
    "    else:\n",
    "        return \"test case failed!\""
   ]
  },
  {
   "cell_type": "code",
   "execution_count": 12,
   "metadata": {},
   "outputs": [
    {
     "name": "stdout",
     "output_type": "stream",
     "text": [
      "Training Epoch 0\n",
      "Training Epoch 1\n"
     ]
    }
   ],
   "source": [
    "import autogen\n",
    "from opto.optimizers import OptoPrime\n",
    "from opto import trace\n",
    "\n",
    "test_ground_truth = [1, 4, 2, 3]\n",
    "test_input = [1, 2, 3, 4]\n",
    "\n",
    "epoch = 2\n",
    "\n",
    "optimizer = OptoPrime(strange_sort_list.parameters(),\n",
    "                      config_list=autogen.config_list_from_json(\"OAI_CONFIG_LIST\"))\n",
    "\n",
    "for i in range(epoch):\n",
    "    print(f\"Training Epoch {i}\")\n",
    "    try:\n",
    "        test_output = strange_sort_list(test_input)\n",
    "        feedback = get_feedback(test_output, test_ground_truth)\n",
    "    except trace.ExecutionError as e:\n",
    "        feedback = e.exception_node.data\n",
    "        test_output = e.exception_node\n",
    "    \n",
    "    correctness = test_output.eq(test_ground_truth)\n",
    "    \n",
    "    if correctness:\n",
    "        break\n",
    "\n",
    "    optimizer.zero_feedback()\n",
    "    optimizer.backward(correctness, feedback)\n",
    "    optimizer.step()"
   ]
  }
 ],
 "metadata": {
  "kernelspec": {
   "display_name": ".venv",
   "language": "python",
   "name": "python3"
  },
  "language_info": {
   "codemirror_mode": {
    "name": "ipython",
    "version": 3
   },
   "file_extension": ".py",
   "mimetype": "text/x-python",
   "name": "python",
   "nbconvert_exporter": "python",
   "pygments_lexer": "ipython3",
   "version": "3.13.1"
  }
 },
 "nbformat": 4,
 "nbformat_minor": 2
}
