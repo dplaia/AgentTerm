{
 "cells": [
  {
   "cell_type": "code",
   "execution_count": 2,
   "metadata": {},
   "outputs": [
    {
     "name": "stdout",
     "output_type": "stream",
     "text": [
      "200\n",
      "{'response': \"I don't have the ability to remember past interactions, so I cannot recall the first question you asked. However, I'm ready for your next question!\", 'client_id': 'david001'}\n"
     ]
    }
   ],
   "source": [
    "import requests\n",
    "\n",
    "# API endpoint and parameters\n",
    "url = \"http://0.0.0.0:8000/chatbot/chat\"\n",
    "#params = {\"token\": \"jessica\"}\n",
    "headers = {\n",
    "    \"accept\": \"application/json\",\n",
    "    \"Content-Type\": \"application/json\"\n",
    "}\n",
    "data = {\n",
    "    \"user_input\": \"What was the first question that I asked you?\",\n",
    "    \"client_id\": \"david001\"\n",
    "}\n",
    "\n",
    "# Send POST request\n",
    "#response = requests.post(url, params=params, headers=headers, json=data)\n",
    "response = requests.post(url, headers=headers, json=data)\n",
    "\n",
    "# Print response\n",
    "print(response.status_code)\n",
    "print(response.json())"
   ]
  }
 ],
 "metadata": {
  "kernelspec": {
   "display_name": ".venv",
   "language": "python",
   "name": "python3"
  },
  "language_info": {
   "codemirror_mode": {
    "name": "ipython",
    "version": 3
   },
   "file_extension": ".py",
   "mimetype": "text/x-python",
   "name": "python",
   "nbconvert_exporter": "python",
   "pygments_lexer": "ipython3",
   "version": "3.13.1"
  }
 },
 "nbformat": 4,
 "nbformat_minor": 2
}
